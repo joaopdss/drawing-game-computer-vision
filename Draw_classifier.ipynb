{
  "nbformat": 4,
  "nbformat_minor": 0,
  "metadata": {
    "colab": {
      "name": "Draw classifier.ipynb",
      "provenance": [],
      "collapsed_sections": []
    },
    "kernelspec": {
      "name": "python3",
      "display_name": "Python 3"
    },
    "language_info": {
      "name": "python"
    },
    "accelerator": "GPU"
  },
  "cells": [
    {
      "cell_type": "markdown",
      "source": [
        "# Quick draw classifier ✍️📖\n",
        "\n",
        "The [Quick Draw Dataset](https://github.com/googlecreativelab/quickdraw-dataset) is a collection of 50 million drawings across 345 categories, contributed by players of the game Quick, Draw! - ***Google***."
      ],
      "metadata": {
        "id": "-LQofG86xaIY"
      }
    },
    {
      "cell_type": "code",
      "source": [
        "import tensorflow as tf\n",
        "from tensorflow.keras import layers\n",
        "import numpy as np\n",
        "import matplotlib.pyplot as plt\n",
        "import os"
      ],
      "metadata": {
        "id": "Brjs-MK35gsP"
      },
      "execution_count": null,
      "outputs": []
    },
    {
      "cell_type": "code",
      "source": [
        "# !gdown https://console.cloud.google.com/storage/browser/quickdraw_dataset/full/simplified"
      ],
      "metadata": {
        "id": "lM65_RXmyaFU"
      },
      "execution_count": null,
      "outputs": []
    },
    {
      "cell_type": "code",
      "source": [
        "classes = [\"banana\", \"apple\", \"computer\", \"crown\", \"clock\", \"circle\", \"pants\", \"rainbow\", \"sun\", \"snowman\", \"telephone\", \"umbrella\", \"tree\", \"bridge\", \"cloud\"]"
      ],
      "metadata": {
        "id": "2l3IGJw7-pWD"
      },
      "execution_count": null,
      "outputs": []
    },
    {
      "cell_type": "code",
      "source": [
        "len(classes)"
      ],
      "metadata": {
        "id": "zJVNlCDu_eVT",
        "colab": {
          "base_uri": "https://localhost:8080/"
        },
        "outputId": "0d4a2cac-2aca-486d-a6ab-b7c06d0efb60"
      },
      "execution_count": null,
      "outputs": [
        {
          "output_type": "execute_result",
          "data": {
            "text/plain": [
              "15"
            ]
          },
          "metadata": {},
          "execution_count": 4
        }
      ]
    },
    {
      "cell_type": "code",
      "source": [
        "os.mkdir(\"data\")"
      ],
      "metadata": {
        "id": "nc7Oa-7Xzu1x"
      },
      "execution_count": null,
      "outputs": []
    },
    {
      "cell_type": "code",
      "source": [
        "import urllib.request\n",
        "base = 'https://storage.googleapis.com/quickdraw_dataset/full/numpy_bitmap/'\n",
        "for c in classes:\n",
        "  cls_url = c.replace('_', '%20')\n",
        "  path = base+cls_url+'.npy'\n",
        "  print(path)\n",
        "  urllib.request.urlretrieve(path, \"data/\" + c + '.npy')"
      ],
      "metadata": {
        "id": "QJ21ne1H4dKx",
        "colab": {
          "base_uri": "https://localhost:8080/"
        },
        "outputId": "c9c4e556-922c-46db-e044-0197d78ab741"
      },
      "execution_count": null,
      "outputs": [
        {
          "output_type": "stream",
          "name": "stdout",
          "text": [
            "https://storage.googleapis.com/quickdraw_dataset/full/numpy_bitmap/banana.npy\n",
            "https://storage.googleapis.com/quickdraw_dataset/full/numpy_bitmap/apple.npy\n",
            "https://storage.googleapis.com/quickdraw_dataset/full/numpy_bitmap/computer.npy\n",
            "https://storage.googleapis.com/quickdraw_dataset/full/numpy_bitmap/crown.npy\n",
            "https://storage.googleapis.com/quickdraw_dataset/full/numpy_bitmap/clock.npy\n",
            "https://storage.googleapis.com/quickdraw_dataset/full/numpy_bitmap/circle.npy\n",
            "https://storage.googleapis.com/quickdraw_dataset/full/numpy_bitmap/pants.npy\n",
            "https://storage.googleapis.com/quickdraw_dataset/full/numpy_bitmap/rainbow.npy\n",
            "https://storage.googleapis.com/quickdraw_dataset/full/numpy_bitmap/sun.npy\n",
            "https://storage.googleapis.com/quickdraw_dataset/full/numpy_bitmap/snowman.npy\n",
            "https://storage.googleapis.com/quickdraw_dataset/full/numpy_bitmap/telephone.npy\n",
            "https://storage.googleapis.com/quickdraw_dataset/full/numpy_bitmap/umbrella.npy\n",
            "https://storage.googleapis.com/quickdraw_dataset/full/numpy_bitmap/tree.npy\n",
            "https://storage.googleapis.com/quickdraw_dataset/full/numpy_bitmap/bridge.npy\n",
            "https://storage.googleapis.com/quickdraw_dataset/full/numpy_bitmap/cloud.npy\n"
          ]
        }
      ]
    },
    {
      "cell_type": "code",
      "source": [
        "import glob\n",
        "\n",
        "def load_data(root, vfold_ratio=0.2, max_items_per_class=20000):\n",
        "    all_files = glob.glob(os.path.join(root, '*.npy'))\n",
        "\n",
        "    #initialize variables \n",
        "    x = np.empty([0, 784])\n",
        "    y = np.empty([0])\n",
        "    class_names = []\n",
        "    \n",
        "    #load a subset of the data to memory \n",
        "    for idx, file in enumerate(all_files):\n",
        "        data = np.load(file)\n",
        "        data = data[0: max_items_per_class, :]\n",
        "        labels = np.full(data.shape[0], idx)\n",
        "\n",
        "        x = np.concatenate((x, data), axis=0)\n",
        "        y = np.append(y, labels)\n",
        "\n",
        "        class_name, ext = os.path.splitext(os.path.basename(file))\n",
        "        class_names.append(class_name)\n",
        "\n",
        "    data = None\n",
        "    labels = None\n",
        "\n",
        "    #separate into training and testing \n",
        "    permutation = np.random.permutation(y.shape[0])\n",
        "    \n",
        "    x = x[permutation, :]\n",
        "    y = y[permutation]\n",
        "\n",
        "    vfold_size = int(x.shape[0]/100*(vfold_ratio*100))\n",
        "    print(vfold_size)\n",
        "    X_test = x[0:vfold_size, :]\n",
        "    y_test = y[0:vfold_size]\n",
        "\n",
        "    X_train = x[vfold_size:x.shape[0], :]\n",
        "    y_train = y[vfold_size:y.shape[0]]\n",
        "    return X_train, y_train, X_test, y_test, class_names"
      ],
      "metadata": {
        "id": "ukl_dDA97Nb_"
      },
      "execution_count": null,
      "outputs": []
    },
    {
      "cell_type": "code",
      "source": [
        "X_train, y_train, X_test, y_test, classes = load_data(\"data\")"
      ],
      "metadata": {
        "id": "fv5vC_J4S_TM",
        "colab": {
          "base_uri": "https://localhost:8080/"
        },
        "outputId": "be29577f-e4de-49de-9cfe-191656fe0f12"
      },
      "execution_count": null,
      "outputs": [
        {
          "output_type": "stream",
          "name": "stdout",
          "text": [
            "60000\n"
          ]
        }
      ]
    },
    {
      "cell_type": "code",
      "source": [
        "classes"
      ],
      "metadata": {
        "id": "UPvJK-im-7YG",
        "colab": {
          "base_uri": "https://localhost:8080/"
        },
        "outputId": "ea7fe1e5-6111-4419-f73f-920aa784d3ab"
      },
      "execution_count": null,
      "outputs": [
        {
          "output_type": "execute_result",
          "data": {
            "text/plain": [
              "['snowman',\n",
              " 'apple',\n",
              " 'telephone',\n",
              " 'tree',\n",
              " 'circle',\n",
              " 'banana',\n",
              " 'crown',\n",
              " 'pants',\n",
              " 'sun',\n",
              " 'clock',\n",
              " 'rainbow',\n",
              " 'umbrella',\n",
              " 'cloud',\n",
              " 'bridge',\n",
              " 'computer']"
            ]
          },
          "metadata": {},
          "execution_count": 9
        }
      ]
    },
    {
      "cell_type": "code",
      "source": [
        "X_train.shape"
      ],
      "metadata": {
        "id": "5DlziBhDehI-",
        "colab": {
          "base_uri": "https://localhost:8080/"
        },
        "outputId": "b0cb5aaf-87ed-4ea6-f103-a53c0d326fda"
      },
      "execution_count": null,
      "outputs": [
        {
          "output_type": "execute_result",
          "data": {
            "text/plain": [
              "(240000, 784)"
            ]
          },
          "metadata": {},
          "execution_count": 10
        }
      ]
    },
    {
      "cell_type": "code",
      "source": [
        "import cv2\n",
        "\n",
        "def preprocess(X_train, X_test):\n",
        "  X_train = X_train.reshape(X_train.shape[0], 28, 28, 1).astype(\"uint8\")\n",
        "  X_train = np.repeat(X_train, 3, -1)\n",
        "  X_test = X_test.reshape(X_test.shape[0], 28, 28, 1).astype(\"uint8\")\n",
        "  X_test = np.repeat(X_test, 3, -1)\n",
        "\n",
        "  X_train = cv2.bitwise_not(X_train)\n",
        "  X_test = cv2.bitwise_not(X_test)\n",
        "\n",
        "  X_train = X_train / 255\n",
        "  X_test = X_test / 255\n",
        "\n",
        "  return X_train, X_test"
      ],
      "metadata": {
        "id": "aiJmLc329ebU"
      },
      "execution_count": null,
      "outputs": []
    },
    {
      "cell_type": "code",
      "source": [
        "X_train, X_test = preprocess(X_train, X_test)"
      ],
      "metadata": {
        "id": "4r8zYl_4JmYK"
      },
      "execution_count": null,
      "outputs": []
    },
    {
      "cell_type": "code",
      "source": [
        "X_test[0].dtype"
      ],
      "metadata": {
        "colab": {
          "base_uri": "https://localhost:8080/"
        },
        "id": "usunnF8ibTEl",
        "outputId": "41c24d8f-d394-4d4c-a5b8-97563971c879"
      },
      "execution_count": null,
      "outputs": [
        {
          "output_type": "execute_result",
          "data": {
            "text/plain": [
              "dtype('uint8')"
            ]
          },
          "metadata": {},
          "execution_count": 13
        }
      ]
    },
    {
      "cell_type": "code",
      "source": [
        "from google.colab.patches import cv2_imshow\n",
        "cv2_imshow(X_test[3] * 255)"
      ],
      "metadata": {
        "colab": {
          "base_uri": "https://localhost:8080/",
          "height": 45
        },
        "id": "soYYGFI6K5LT",
        "outputId": "8ca03854-39d2-4ab0-c901-2b0926afc2ae"
      },
      "execution_count": null,
      "outputs": [
        {
          "output_type": "display_data",
          "data": {
            "text/plain": [
              "<PIL.Image.Image image mode=RGB size=28x28 at 0x7FE1B99FE110>"
            ],
            "image/png": "[encoded data removed]"
          },
          "metadata": {}
        }
      ]
    },
    {
      "cell_type": "code",
      "source": [
        "X_test[0][17]"
      ],
      "metadata": {
        "colab": {
          "base_uri": "https://localhost:8080/"
        },
        "id": "E2_aP2ijzAzn",
        "outputId": "2f5d71a5-7c34-4a5f-ad7a-834fd6a2400c"
      },
      "execution_count": null,
      "outputs": [
        {
          "output_type": "execute_result",
          "data": {
            "text/plain": [
              "array([[1.        , 1.        , 1.        ],\n",
              "       [1.        , 1.        , 1.        ],\n",
              "       [0.2745098 , 0.2745098 , 0.2745098 ],\n",
              "       [0.23921569, 0.23921569, 0.23921569],\n",
              "       [1.        , 1.        , 1.        ],\n",
              "       [1.        , 1.        , 1.        ],\n",
              "       [1.        , 1.        , 1.        ],\n",
              "       [1.        , 1.        , 1.        ],\n",
              "       [1.        , 1.        , 1.        ],\n",
              "       [1.        , 1.        , 1.        ],\n",
              "       [1.        , 1.        , 1.        ],\n",
              "       [1.        , 1.        , 1.        ],\n",
              "       [1.        , 1.        , 1.        ],\n",
              "       [1.        , 1.        , 1.        ],\n",
              "       [1.        , 1.        , 1.        ],\n",
              "       [1.        , 1.        , 1.        ],\n",
              "       [1.        , 1.        , 1.        ],\n",
              "       [1.        , 1.        , 1.        ],\n",
              "       [1.        , 1.        , 1.        ],\n",
              "       [1.        , 1.        , 1.        ],\n",
              "       [1.        , 1.        , 1.        ],\n",
              "       [1.        , 1.        , 1.        ],\n",
              "       [1.        , 1.        , 1.        ],\n",
              "       [0.76862745, 0.76862745, 0.76862745],\n",
              "       [0.        , 0.        , 0.        ],\n",
              "       [0.74901961, 0.74901961, 0.74901961],\n",
              "       [1.        , 1.        , 1.        ],\n",
              "       [1.        , 1.        , 1.        ]])"
            ]
          },
          "metadata": {},
          "execution_count": 16
        }
      ]
    },
    {
      "cell_type": "code",
      "source": [
        "X_test[0][17]"
      ],
      "metadata": {
        "id": "-EqDDxHfs_sd",
        "colab": {
          "base_uri": "https://localhost:8080/"
        },
        "outputId": "9711aba5-01ed-4732-f1ac-dc47c8be722b"
      },
      "execution_count": null,
      "outputs": [
        {
          "output_type": "execute_result",
          "data": {
            "text/plain": [
              "array([[255, 255, 255],\n",
              "       [255, 255, 255],\n",
              "       [255, 255, 255],\n",
              "       [181, 181, 181],\n",
              "       [  0,   0,   0],\n",
              "       [223, 223, 223],\n",
              "       [ 61,  61,  61],\n",
              "       [ 27,  27,  27],\n",
              "       [  0,   0,   0],\n",
              "       [144, 144, 144],\n",
              "       [155, 155, 155],\n",
              "       [  0,   0,   0],\n",
              "       [226, 226, 226],\n",
              "       [255, 255, 255],\n",
              "       [255, 255, 255],\n",
              "       [255, 255, 255],\n",
              "       [255, 255, 255],\n",
              "       [138, 138, 138],\n",
              "       [ 12,  12,  12],\n",
              "       [255, 255, 255],\n",
              "       [244, 244, 244],\n",
              "       [161, 161, 161],\n",
              "       [ 67,  67,  67],\n",
              "       [  2,   2,   2],\n",
              "       [123, 123, 123],\n",
              "       [255, 255, 255],\n",
              "       [255, 255, 255],\n",
              "       [255, 255, 255]], dtype=uint8)"
            ]
          },
          "metadata": {},
          "execution_count": 15
        }
      ]
    },
    {
      "cell_type": "code",
      "source": [
        "import cv2\n",
        "normalized = cv2.normalize(X_test[0], None, 0, 1, cv2.NORM_MINMAX, dtype=cv2.CV_8U)"
      ],
      "metadata": {
        "id": "DgVVsFOocB3j"
      },
      "execution_count": null,
      "outputs": []
    },
    {
      "cell_type": "code",
      "source": [
        "X_test[0]"
      ],
      "metadata": {
        "id": "cBXPd8CKd7I6"
      },
      "execution_count": null,
      "outputs": []
    },
    {
      "cell_type": "code",
      "source": [
        "normalized = normalized * 255\n",
        "normalized"
      ],
      "metadata": {
        "colab": {
          "base_uri": "https://localhost:8080/"
        },
        "id": "PbiFiWyicjGd",
        "outputId": "0d7847f0-9dd2-4990-fe89-dfce807b1d83"
      },
      "execution_count": null,
      "outputs": [
        {
          "output_type": "execute_result",
          "data": {
            "text/plain": [
              "array([[[255., 255., 255.],\n",
              "        [255., 255., 255.],\n",
              "        [255., 255., 255.],\n",
              "        ...,\n",
              "        [255., 255., 255.],\n",
              "        [255., 255., 255.],\n",
              "        [255., 255., 255.]],\n",
              "\n",
              "       [[255., 255., 255.],\n",
              "        [255., 255., 255.],\n",
              "        [255., 255., 255.],\n",
              "        ...,\n",
              "        [255., 255., 255.],\n",
              "        [255., 255., 255.],\n",
              "        [255., 255., 255.]],\n",
              "\n",
              "       [[255., 255., 255.],\n",
              "        [255., 255., 255.],\n",
              "        [255., 255., 255.],\n",
              "        ...,\n",
              "        [255., 255., 255.],\n",
              "        [255., 255., 255.],\n",
              "        [255., 255., 255.]],\n",
              "\n",
              "       ...,\n",
              "\n",
              "       [[255., 255., 255.],\n",
              "        [255., 255., 255.],\n",
              "        [255., 255., 255.],\n",
              "        ...,\n",
              "        [255., 255., 255.],\n",
              "        [255., 255., 255.],\n",
              "        [255., 255., 255.]],\n",
              "\n",
              "       [[255., 255., 255.],\n",
              "        [255., 255., 255.],\n",
              "        [255., 255., 255.],\n",
              "        ...,\n",
              "        [255., 255., 255.],\n",
              "        [255., 255., 255.],\n",
              "        [255., 255., 255.]],\n",
              "\n",
              "       [[255., 255., 255.],\n",
              "        [255., 255., 255.],\n",
              "        [255., 255., 255.],\n",
              "        ...,\n",
              "        [255., 255., 255.],\n",
              "        [255., 255., 255.],\n",
              "        [255., 255., 255.]]])"
            ]
          },
          "metadata": {},
          "execution_count": 25
        }
      ]
    },
    {
      "cell_type": "code",
      "source": [
        "from google.colab.patches import cv2_imshow\n",
        "cv2_imshow(normalized)"
      ],
      "metadata": {
        "colab": {
          "base_uri": "https://localhost:8080/",
          "height": 45
        },
        "id": "ClPc7OMgdDDB",
        "outputId": "1683e8cb-12e0-4472-eba8-a78ad797e45d"
      },
      "execution_count": null,
      "outputs": [
        {
          "output_type": "display_data",
          "data": {
            "text/plain": [
              "<PIL.Image.Image image mode=RGB size=28x28 at 0x7F3462EA72D0>"
            ],
            "image/png": "[encoded data removed]"
          },
          "metadata": {}
        }
      ]
    },
    {
      "cell_type": "code",
      "source": [
        "import tensorflow as tf\n",
        "from tensorflow.keras.layers import Input\n",
        "from tensorflow.keras.layers import Conv2D\n",
        "from tensorflow.keras.layers import Dense\n",
        "from tensorflow.keras.layers import MaxPool2D\n",
        "from tensorflow.keras.layers import Dropout\n",
        "from tensorflow.keras.layers import BatchNormalization"
      ],
      "metadata": {
        "id": "scX7qDmzFqTg"
      },
      "execution_count": null,
      "outputs": []
    },
    {
      "cell_type": "code",
      "source": [
        "input_shape = (28, 28, 3)\n",
        "\n",
        "# Build model\n",
        "model_1 = tf.keras.models.Sequential([\n",
        "  Input(shape=input_shape),\n",
        "  Conv2D(32, (3, 3), activation=\"relu\", padding=\"same\"),\n",
        "  BatchNormalization(),\n",
        "  Conv2D(64, (3, 3), activation=\"relu\", padding=\"same\"),\n",
        "  BatchNormalization(),\n",
        "  MaxPool2D(2),\n",
        "  Dropout(0.2),\n",
        "  Conv2D(128, (3, 3), activation=\"relu\", padding=\"same\"),\n",
        "  BatchNormalization(),\n",
        "  MaxPool2D(2),\n",
        "  Dropout(0.2),\n",
        "  Conv2D(256, (3, 3), activation=\"relu\", padding=\"same\"),\n",
        "  BatchNormalization(),\n",
        "  MaxPool2D(2),\n",
        "  Dropout(0.2),\n",
        "  Dense(256, activation=\"relu\"),\n",
        "  BatchNormalization(),\n",
        "  tf.keras.layers.Flatten(),\n",
        "  Dense(15, activation=\"softmax\")\n",
        "])\n",
        "\n",
        "# Compile model\n",
        "model_1.compile(loss=\"sparse_categorical_crossentropy\",\n",
        "                optimizer=tf.keras.optimizers.Adam(),\n",
        "                metrics=[\"accuracy\"])"
      ],
      "metadata": {
        "id": "jfm_yGjHF60O"
      },
      "execution_count": null,
      "outputs": []
    },
    {
      "cell_type": "code",
      "source": [
        "model_1.fit(X_train, y_train, epochs=2, validation_data=(X_test, y_test))"
      ],
      "metadata": {
        "id": "r4s158CpGGJk",
        "colab": {
          "base_uri": "https://localhost:8080/"
        },
        "outputId": "4d9fc11f-175a-42c4-dfff-fbeac0dfa950"
      },
      "execution_count": null,
      "outputs": [
        {
          "output_type": "stream",
          "name": "stdout",
          "text": [
            "Epoch 1/2\n",
            "7500/7500 [==============================] - 64s 7ms/step - loss: 0.3057 - accuracy: 0.9149 - val_loss: 0.2107 - val_accuracy: 0.9408\n",
            "Epoch 2/2\n",
            "7500/7500 [==============================] - 54s 7ms/step - loss: 0.1905 - accuracy: 0.9457 - val_loss: 0.1717 - val_accuracy: 0.9518\n"
          ]
        },
        {
          "output_type": "execute_result",
          "data": {
            "text/plain": [
              "<keras.callbacks.History at 0x7fe3401405d0>"
            ]
          },
          "metadata": {},
          "execution_count": 15
        }
      ]
    },
    {
      "cell_type": "code",
      "source": [
        "result = model_1.predict(tf.expand_dims(X_test[2], 0))\n",
        "result.argmax()"
      ],
      "metadata": {
        "colab": {
          "base_uri": "https://localhost:8080/"
        },
        "id": "eLg9FC5S0yhN",
        "outputId": "30eac088-6d98-424d-bbcf-a4e602fca6c3"
      },
      "execution_count": null,
      "outputs": [
        {
          "output_type": "execute_result",
          "data": {
            "text/plain": [
              "12"
            ]
          },
          "metadata": {},
          "execution_count": 20
        }
      ]
    },
    {
      "cell_type": "code",
      "source": [
        "model_1.save(\"draw_model.h5\")"
      ],
      "metadata": {
        "id": "l4BlVf0-C1ap"
      },
      "execution_count": null,
      "outputs": []
    },
    {
      "cell_type": "code",
      "source": [
        "model = tf.keras.models.load_model(\"draw_model.h5\")"
      ],
      "metadata": {
        "id": "jFCTiZHFKG-n"
      },
      "execution_count": null,
      "outputs": []
    },
    {
      "cell_type": "code",
      "source": [
        "preds = model_1.predict(tf.expand_dims(X_test[2], axis=0))\n",
        "idx = np.argmax(preds)\n",
        "classes[idx]"
      ],
      "metadata": {
        "colab": {
          "base_uri": "https://localhost:8080/",
          "height": 35
        },
        "id": "p0NPkEu6APzn",
        "outputId": "cf93d986-45c4-43dc-de22-0b46d6eac7c8"
      },
      "execution_count": null,
      "outputs": [
        {
          "output_type": "execute_result",
          "data": {
            "text/plain": [
              "'rainbow'"
            ],
            "application/vnd.google.colaboratory.intrinsic+json": {
              "type": "string"
            }
          },
          "metadata": {},
          "execution_count": 35
        }
      ]
    },
    {
      "cell_type": "code",
      "source": [
        "classes[int(y_test[2])]"
      ],
      "metadata": {
        "colab": {
          "base_uri": "https://localhost:8080/",
          "height": 35
        },
        "id": "qA0i5_3XAZ_P",
        "outputId": "e7f41232-07c8-426b-c8be-9c1390a5761f"
      },
      "execution_count": null,
      "outputs": [
        {
          "output_type": "execute_result",
          "data": {
            "text/plain": [
              "'umbrella'"
            ],
            "application/vnd.google.colaboratory.intrinsic+json": {
              "type": "string"
            }
          },
          "metadata": {},
          "execution_count": 37
        }
      ]
    },
    {
      "cell_type": "code",
      "source": [
        "classes"
      ],
      "metadata": {
        "colab": {
          "base_uri": "https://localhost:8080/"
        },
        "id": "HPiWkDbBBnd3",
        "outputId": "6a57d0cb-695a-40da-e3ce-07cf4c4ec972"
      },
      "execution_count": null,
      "outputs": [
        {
          "output_type": "execute_result",
          "data": {
            "text/plain": [
              "['sun',\n",
              " 'clock',\n",
              " 'cloud',\n",
              " 'telephone',\n",
              " 'bridge',\n",
              " 'tree',\n",
              " 'computer',\n",
              " 'pants',\n",
              " 'snowman',\n",
              " 'crown',\n",
              " 'rainbow',\n",
              " 'umbrella',\n",
              " 'circle',\n",
              " 'apple',\n",
              " 'banana']"
            ]
          },
          "metadata": {},
          "execution_count": 45
        }
      ]
    },
    {
      "cell_type": "code",
      "source": [
        ""
      ],
      "metadata": {
        "id": "SX462CNgB0gw"
      },
      "execution_count": null,
      "outputs": []
    }
  ]
}